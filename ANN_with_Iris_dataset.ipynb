{
  "nbformat": 4,
  "nbformat_minor": 0,
  "metadata": {
    "kernelspec": {
      "display_name": "Python 3 (ipykernel)",
      "language": "python",
      "name": "python3"
    },
    "language_info": {
      "codemirror_mode": {
        "name": "ipython",
        "version": 3
      },
      "file_extension": ".py",
      "mimetype": "text/x-python",
      "name": "python",
      "nbconvert_exporter": "python",
      "pygments_lexer": "ipython3",
      "version": "3.7.11"
    },
    "colab": {
      "provenance": []
    }
  },
  "cells": [
    {
      "cell_type": "markdown",
      "source": [
        "# Iris Species Classification with Artificial Neural Networks\n",
        "In this project, we'll use the Iris dataset to create an Artificial Neural Network (ANN). A traditional classification job, the Iris dataset contains measurements of three different species of iris blossoms and is a frequently used benchmark dataset in machine learning. The objective is to construct an ANN that can successfully categorize iris flowers according to their petal and sepal features. To do this, we'll create and train the neural network using tools like TensorFlow or Keras. This ANN will undergo training on a portion of the dataset, allowing it to learn patterns and relationships between the input features and the corresponding iris species labels. Once trained, the ANN will be capable of predicting the species of iris flowers with high accuracy based on new data. This project serves as a practical example of applying deep learning techniques to real-world data for classification purposes."
      ],
      "metadata": {
        "id": "NbwGdZ-NXxWv"
      }
    },
    {
      "cell_type": "markdown",
      "metadata": {
        "id": "fIspuOX_m3Sm"
      },
      "source": [
        "<div class=\"alert alert-block alert-danger\">\n",
        "<b>Package version :</b>\n",
        "    <ol>\n",
        "    <li>Tensorflow 2.4.1</li>\n",
        "    <li>Keras 2.4.3</li>\n",
        "    <li>Matplotlib 3.5.0</li>\n",
        "    <li>Scikit-learn 0.23.2</li>\n",
        "    </ol>\n",
        "</div>"
      ]
    },
    {
      "cell_type": "markdown",
      "source": [
        "We load the Iris dataset using the sklearn library, which provides convenient access to the dataset. The dataset is divided into two main components: the input features (X) and the target labels (y). The input features, denoted as 'X,' include measurements of petal length, petal width, sepal length, and sepal width for each iris sample. Meanwhile, the target labels, labeled as 'y,' represent the corresponding species of each iris flower, encoded as integers."
      ],
      "metadata": {
        "id": "_nFlzi1fY_w8"
      }
    },
    {
      "cell_type": "code",
      "metadata": {
        "id": "49d_jKiym3Sp"
      },
      "source": [
        "from sklearn import datasets\n",
        "from sklearn.model_selection import train_test_split\n",
        "\n",
        "iris = datasets.load_iris()\n",
        "\n",
        "X = iris.data\n",
        "y = iris.target"
      ],
      "execution_count": null,
      "outputs": []
    },
    {
      "cell_type": "code",
      "metadata": {
        "colab": {
          "base_uri": "https://localhost:8080/"
        },
        "id": "a9LXRoMzpQHJ",
        "outputId": "f8b1fcd7-3d95-4a0c-8549-2999fb2c59ab"
      },
      "source": [
        "print(y)"
      ],
      "execution_count": null,
      "outputs": [
        {
          "output_type": "stream",
          "name": "stdout",
          "text": [
            "[0 0 0 0 0 0 0 0 0 0 0 0 0 0 0 0 0 0 0 0 0 0 0 0 0 0 0 0 0 0 0 0 0 0 0 0 0\n",
            " 0 0 0 0 0 0 0 0 0 0 0 0 0 1 1 1 1 1 1 1 1 1 1 1 1 1 1 1 1 1 1 1 1 1 1 1 1\n",
            " 1 1 1 1 1 1 1 1 1 1 1 1 1 1 1 1 1 1 1 1 1 1 1 1 1 1 2 2 2 2 2 2 2 2 2 2 2\n",
            " 2 2 2 2 2 2 2 2 2 2 2 2 2 2 2 2 2 2 2 2 2 2 2 2 2 2 2 2 2 2 2 2 2 2 2 2 2\n",
            " 2 2]\n"
          ]
        }
      ]
    },
    {
      "cell_type": "code",
      "metadata": {
        "colab": {
          "base_uri": "https://localhost:8080/"
        },
        "id": "K7r9pFKIpmtH",
        "outputId": "ced6ae58-3248-4808-dcad-cbb62aced9ad"
      },
      "source": [
        "print(iris)"
      ],
      "execution_count": null,
      "outputs": [
        {
          "output_type": "stream",
          "name": "stdout",
          "text": [
            "{'data': array([[5.1, 3.5, 1.4, 0.2],\n",
            "       [4.9, 3. , 1.4, 0.2],\n",
            "       [4.7, 3.2, 1.3, 0.2],\n",
            "       [4.6, 3.1, 1.5, 0.2],\n",
            "       [5. , 3.6, 1.4, 0.2],\n",
            "       [5.4, 3.9, 1.7, 0.4],\n",
            "       [4.6, 3.4, 1.4, 0.3],\n",
            "       [5. , 3.4, 1.5, 0.2],\n",
            "       [4.4, 2.9, 1.4, 0.2],\n",
            "       [4.9, 3.1, 1.5, 0.1],\n",
            "       [5.4, 3.7, 1.5, 0.2],\n",
            "       [4.8, 3.4, 1.6, 0.2],\n",
            "       [4.8, 3. , 1.4, 0.1],\n",
            "       [4.3, 3. , 1.1, 0.1],\n",
            "       [5.8, 4. , 1.2, 0.2],\n",
            "       [5.7, 4.4, 1.5, 0.4],\n",
            "       [5.4, 3.9, 1.3, 0.4],\n",
            "       [5.1, 3.5, 1.4, 0.3],\n",
            "       [5.7, 3.8, 1.7, 0.3],\n",
            "       [5.1, 3.8, 1.5, 0.3],\n",
            "       [5.4, 3.4, 1.7, 0.2],\n",
            "       [5.1, 3.7, 1.5, 0.4],\n",
            "       [4.6, 3.6, 1. , 0.2],\n",
            "       [5.1, 3.3, 1.7, 0.5],\n",
            "       [4.8, 3.4, 1.9, 0.2],\n",
            "       [5. , 3. , 1.6, 0.2],\n",
            "       [5. , 3.4, 1.6, 0.4],\n",
            "       [5.2, 3.5, 1.5, 0.2],\n",
            "       [5.2, 3.4, 1.4, 0.2],\n",
            "       [4.7, 3.2, 1.6, 0.2],\n",
            "       [4.8, 3.1, 1.6, 0.2],\n",
            "       [5.4, 3.4, 1.5, 0.4],\n",
            "       [5.2, 4.1, 1.5, 0.1],\n",
            "       [5.5, 4.2, 1.4, 0.2],\n",
            "       [4.9, 3.1, 1.5, 0.2],\n",
            "       [5. , 3.2, 1.2, 0.2],\n",
            "       [5.5, 3.5, 1.3, 0.2],\n",
            "       [4.9, 3.6, 1.4, 0.1],\n",
            "       [4.4, 3. , 1.3, 0.2],\n",
            "       [5.1, 3.4, 1.5, 0.2],\n",
            "       [5. , 3.5, 1.3, 0.3],\n",
            "       [4.5, 2.3, 1.3, 0.3],\n",
            "       [4.4, 3.2, 1.3, 0.2],\n",
            "       [5. , 3.5, 1.6, 0.6],\n",
            "       [5.1, 3.8, 1.9, 0.4],\n",
            "       [4.8, 3. , 1.4, 0.3],\n",
            "       [5.1, 3.8, 1.6, 0.2],\n",
            "       [4.6, 3.2, 1.4, 0.2],\n",
            "       [5.3, 3.7, 1.5, 0.2],\n",
            "       [5. , 3.3, 1.4, 0.2],\n",
            "       [7. , 3.2, 4.7, 1.4],\n",
            "       [6.4, 3.2, 4.5, 1.5],\n",
            "       [6.9, 3.1, 4.9, 1.5],\n",
            "       [5.5, 2.3, 4. , 1.3],\n",
            "       [6.5, 2.8, 4.6, 1.5],\n",
            "       [5.7, 2.8, 4.5, 1.3],\n",
            "       [6.3, 3.3, 4.7, 1.6],\n",
            "       [4.9, 2.4, 3.3, 1. ],\n",
            "       [6.6, 2.9, 4.6, 1.3],\n",
            "       [5.2, 2.7, 3.9, 1.4],\n",
            "       [5. , 2. , 3.5, 1. ],\n",
            "       [5.9, 3. , 4.2, 1.5],\n",
            "       [6. , 2.2, 4. , 1. ],\n",
            "       [6.1, 2.9, 4.7, 1.4],\n",
            "       [5.6, 2.9, 3.6, 1.3],\n",
            "       [6.7, 3.1, 4.4, 1.4],\n",
            "       [5.6, 3. , 4.5, 1.5],\n",
            "       [5.8, 2.7, 4.1, 1. ],\n",
            "       [6.2, 2.2, 4.5, 1.5],\n",
            "       [5.6, 2.5, 3.9, 1.1],\n",
            "       [5.9, 3.2, 4.8, 1.8],\n",
            "       [6.1, 2.8, 4. , 1.3],\n",
            "       [6.3, 2.5, 4.9, 1.5],\n",
            "       [6.1, 2.8, 4.7, 1.2],\n",
            "       [6.4, 2.9, 4.3, 1.3],\n",
            "       [6.6, 3. , 4.4, 1.4],\n",
            "       [6.8, 2.8, 4.8, 1.4],\n",
            "       [6.7, 3. , 5. , 1.7],\n",
            "       [6. , 2.9, 4.5, 1.5],\n",
            "       [5.7, 2.6, 3.5, 1. ],\n",
            "       [5.5, 2.4, 3.8, 1.1],\n",
            "       [5.5, 2.4, 3.7, 1. ],\n",
            "       [5.8, 2.7, 3.9, 1.2],\n",
            "       [6. , 2.7, 5.1, 1.6],\n",
            "       [5.4, 3. , 4.5, 1.5],\n",
            "       [6. , 3.4, 4.5, 1.6],\n",
            "       [6.7, 3.1, 4.7, 1.5],\n",
            "       [6.3, 2.3, 4.4, 1.3],\n",
            "       [5.6, 3. , 4.1, 1.3],\n",
            "       [5.5, 2.5, 4. , 1.3],\n",
            "       [5.5, 2.6, 4.4, 1.2],\n",
            "       [6.1, 3. , 4.6, 1.4],\n",
            "       [5.8, 2.6, 4. , 1.2],\n",
            "       [5. , 2.3, 3.3, 1. ],\n",
            "       [5.6, 2.7, 4.2, 1.3],\n",
            "       [5.7, 3. , 4.2, 1.2],\n",
            "       [5.7, 2.9, 4.2, 1.3],\n",
            "       [6.2, 2.9, 4.3, 1.3],\n",
            "       [5.1, 2.5, 3. , 1.1],\n",
            "       [5.7, 2.8, 4.1, 1.3],\n",
            "       [6.3, 3.3, 6. , 2.5],\n",
            "       [5.8, 2.7, 5.1, 1.9],\n",
            "       [7.1, 3. , 5.9, 2.1],\n",
            "       [6.3, 2.9, 5.6, 1.8],\n",
            "       [6.5, 3. , 5.8, 2.2],\n",
            "       [7.6, 3. , 6.6, 2.1],\n",
            "       [4.9, 2.5, 4.5, 1.7],\n",
            "       [7.3, 2.9, 6.3, 1.8],\n",
            "       [6.7, 2.5, 5.8, 1.8],\n",
            "       [7.2, 3.6, 6.1, 2.5],\n",
            "       [6.5, 3.2, 5.1, 2. ],\n",
            "       [6.4, 2.7, 5.3, 1.9],\n",
            "       [6.8, 3. , 5.5, 2.1],\n",
            "       [5.7, 2.5, 5. , 2. ],\n",
            "       [5.8, 2.8, 5.1, 2.4],\n",
            "       [6.4, 3.2, 5.3, 2.3],\n",
            "       [6.5, 3. , 5.5, 1.8],\n",
            "       [7.7, 3.8, 6.7, 2.2],\n",
            "       [7.7, 2.6, 6.9, 2.3],\n",
            "       [6. , 2.2, 5. , 1.5],\n",
            "       [6.9, 3.2, 5.7, 2.3],\n",
            "       [5.6, 2.8, 4.9, 2. ],\n",
            "       [7.7, 2.8, 6.7, 2. ],\n",
            "       [6.3, 2.7, 4.9, 1.8],\n",
            "       [6.7, 3.3, 5.7, 2.1],\n",
            "       [7.2, 3.2, 6. , 1.8],\n",
            "       [6.2, 2.8, 4.8, 1.8],\n",
            "       [6.1, 3. , 4.9, 1.8],\n",
            "       [6.4, 2.8, 5.6, 2.1],\n",
            "       [7.2, 3. , 5.8, 1.6],\n",
            "       [7.4, 2.8, 6.1, 1.9],\n",
            "       [7.9, 3.8, 6.4, 2. ],\n",
            "       [6.4, 2.8, 5.6, 2.2],\n",
            "       [6.3, 2.8, 5.1, 1.5],\n",
            "       [6.1, 2.6, 5.6, 1.4],\n",
            "       [7.7, 3. , 6.1, 2.3],\n",
            "       [6.3, 3.4, 5.6, 2.4],\n",
            "       [6.4, 3.1, 5.5, 1.8],\n",
            "       [6. , 3. , 4.8, 1.8],\n",
            "       [6.9, 3.1, 5.4, 2.1],\n",
            "       [6.7, 3.1, 5.6, 2.4],\n",
            "       [6.9, 3.1, 5.1, 2.3],\n",
            "       [5.8, 2.7, 5.1, 1.9],\n",
            "       [6.8, 3.2, 5.9, 2.3],\n",
            "       [6.7, 3.3, 5.7, 2.5],\n",
            "       [6.7, 3. , 5.2, 2.3],\n",
            "       [6.3, 2.5, 5. , 1.9],\n",
            "       [6.5, 3. , 5.2, 2. ],\n",
            "       [6.2, 3.4, 5.4, 2.3],\n",
            "       [5.9, 3. , 5.1, 1.8]]), 'target': array([0, 0, 0, 0, 0, 0, 0, 0, 0, 0, 0, 0, 0, 0, 0, 0, 0, 0, 0, 0, 0, 0,\n",
            "       0, 0, 0, 0, 0, 0, 0, 0, 0, 0, 0, 0, 0, 0, 0, 0, 0, 0, 0, 0, 0, 0,\n",
            "       0, 0, 0, 0, 0, 0, 1, 1, 1, 1, 1, 1, 1, 1, 1, 1, 1, 1, 1, 1, 1, 1,\n",
            "       1, 1, 1, 1, 1, 1, 1, 1, 1, 1, 1, 1, 1, 1, 1, 1, 1, 1, 1, 1, 1, 1,\n",
            "       1, 1, 1, 1, 1, 1, 1, 1, 1, 1, 1, 1, 2, 2, 2, 2, 2, 2, 2, 2, 2, 2,\n",
            "       2, 2, 2, 2, 2, 2, 2, 2, 2, 2, 2, 2, 2, 2, 2, 2, 2, 2, 2, 2, 2, 2,\n",
            "       2, 2, 2, 2, 2, 2, 2, 2, 2, 2, 2, 2, 2, 2, 2, 2, 2, 2]), 'frame': None, 'target_names': array(['setosa', 'versicolor', 'virginica'], dtype='<U10'), 'DESCR': '.. _iris_dataset:\\n\\nIris plants dataset\\n--------------------\\n\\n**Data Set Characteristics:**\\n\\n    :Number of Instances: 150 (50 in each of three classes)\\n    :Number of Attributes: 4 numeric, predictive attributes and the class\\n    :Attribute Information:\\n        - sepal length in cm\\n        - sepal width in cm\\n        - petal length in cm\\n        - petal width in cm\\n        - class:\\n                - Iris-Setosa\\n                - Iris-Versicolour\\n                - Iris-Virginica\\n                \\n    :Summary Statistics:\\n\\n    ============== ==== ==== ======= ===== ====================\\n                    Min  Max   Mean    SD   Class Correlation\\n    ============== ==== ==== ======= ===== ====================\\n    sepal length:   4.3  7.9   5.84   0.83    0.7826\\n    sepal width:    2.0  4.4   3.05   0.43   -0.4194\\n    petal length:   1.0  6.9   3.76   1.76    0.9490  (high!)\\n    petal width:    0.1  2.5   1.20   0.76    0.9565  (high!)\\n    ============== ==== ==== ======= ===== ====================\\n\\n    :Missing Attribute Values: None\\n    :Class Distribution: 33.3% for each of 3 classes.\\n    :Creator: R.A. Fisher\\n    :Donor: Michael Marshall (MARSHALL%PLU@io.arc.nasa.gov)\\n    :Date: July, 1988\\n\\nThe famous Iris database, first used by Sir R.A. Fisher. The dataset is taken\\nfrom Fisher\\'s paper. Note that it\\'s the same as in R, but not as in the UCI\\nMachine Learning Repository, which has two wrong data points.\\n\\nThis is perhaps the best known database to be found in the\\npattern recognition literature.  Fisher\\'s paper is a classic in the field and\\nis referenced frequently to this day.  (See Duda & Hart, for example.)  The\\ndata set contains 3 classes of 50 instances each, where each class refers to a\\ntype of iris plant.  One class is linearly separable from the other 2; the\\nlatter are NOT linearly separable from each other.\\n\\n.. topic:: References\\n\\n   - Fisher, R.A. \"The use of multiple measurements in taxonomic problems\"\\n     Annual Eugenics, 7, Part II, 179-188 (1936); also in \"Contributions to\\n     Mathematical Statistics\" (John Wiley, NY, 1950).\\n   - Duda, R.O., & Hart, P.E. (1973) Pattern Classification and Scene Analysis.\\n     (Q327.D83) John Wiley & Sons.  ISBN 0-471-22361-1.  See page 218.\\n   - Dasarathy, B.V. (1980) \"Nosing Around the Neighborhood: A New System\\n     Structure and Classification Rule for Recognition in Partially Exposed\\n     Environments\".  IEEE Transactions on Pattern Analysis and Machine\\n     Intelligence, Vol. PAMI-2, No. 1, 67-71.\\n   - Gates, G.W. (1972) \"The Reduced Nearest Neighbor Rule\".  IEEE Transactions\\n     on Information Theory, May 1972, 431-433.\\n   - See also: 1988 MLC Proceedings, 54-64.  Cheeseman et al\"s AUTOCLASS II\\n     conceptual clustering system finds 3 classes in the data.\\n   - Many, many more ...', 'feature_names': ['sepal length (cm)', 'sepal width (cm)', 'petal length (cm)', 'petal width (cm)'], 'filename': 'iris.csv', 'data_module': 'sklearn.datasets.data'}\n"
          ]
        }
      ]
    },
    {
      "cell_type": "markdown",
      "source": [
        "The provided code snippet illustrates a common procedure in machine learning known as data splitting, with the goal of preparing the dataset for model development and evaluation. Firstly, the dataset, consisting of features (X) and corresponding labels (y), is divided into two main subsets: a training set and a testing set. Approximately 10% of the data is allocated for testing, while the remaining 90% is designated for training. Subsequently, a secondary data split occurs within the training dataset, creating a validation set. Approximately 15% of the training data is reserved for validation, while the majority, approximately 85%, remains for actual model training. Lastly, the code provides transparency by printing the dimensions (shapes) of the resulting datasets, including X_train, X_val, and X_test, enabling users to verify that the data has been divided correctly. This systematic data splitting process is essential for robust model development, hyperparameter tuning, and assessing model generalization, ultimately contributing to the reliable evaluation of machine learning models."
      ],
      "metadata": {
        "id": "JoHTYAhQZlth"
      }
    },
    {
      "cell_type": "code",
      "metadata": {
        "colab": {
          "base_uri": "https://localhost:8080/"
        },
        "id": "3Z0cnq8Lm3Sq",
        "outputId": "bbd485a7-9bf4-4e09-adb0-038e50422d42"
      },
      "source": [
        "# Splitting the Data into Training, Validation, and Testing Sets\n",
        "\n",
        "# Splitting the data into training (X_train, Y_train) and testing (X_test, Y_test) sets with a test size of 10%.\n",
        "X_train, X_test, Y_train, Y_test = train_test_split(X, y, test_size=.10)\n",
        "\n",
        "# Further splitting the training data into training (X_train) and validation (X_val) sets with a validation size of 15%.\n",
        "X_train, X_val, Y_train, Y_val = train_test_split(X_train, Y_train, test_size=.15)\n",
        "\n",
        "# Printing the shapes of the resulting datasets.\n",
        "print('X_train', X_train.shape)\n",
        "print('X_val', X_val.shape)\n",
        "print('X_test', X_test.shape)"
      ],
      "execution_count": null,
      "outputs": [
        {
          "output_type": "stream",
          "name": "stdout",
          "text": [
            "X_train (114, 4)\n",
            "X_val (21, 4)\n",
            "X_test (15, 4)\n"
          ]
        }
      ]
    },
    {
      "cell_type": "markdown",
      "source": [
        "## Multi-Layer Perceptron (MLP) classifier\n",
        "\n",
        "This code segment aims to create a Multi-Layer Perceptron (MLP) classifier using scikit-learn's machine learning library. An MLP is a type of artificial neural network used for classification tasks, and in this case, it will be configured with specific settings to suit the problem at hand. The code begins by importing the necessary components from scikit-learn. Specifically, it imports the MLPClassifier class from the neural network module, highlighting the utilization of machine learning tools for creating and configuring neural network classifiers.\n",
        "\n",
        "Once the MLPClassifier class is imported, an instance of this classifier is instantiated and assigned to the variable mlp. This instance will serve as the neural network model for a classification task. The settings for this model are specified within the instantiation, including the architecture, activation function, and training parameters.\n",
        "\n",
        "The architecture is defined with a single hidden layer consisting of 64 neurons, and the activation function for these neurons is set to ReLU (Rectified Linear Unit). The choice of architecture and activation function significantly influences the model's capacity to capture complex patterns in the data. Furthermore, the model's training process is constrained to a maximum of 1000 iterations or epochs, and a small positive value (epsilon) is introduced to ensure numerical stability during training. These parameters are essential for controlling the learning process and optimizing the model's performance."
      ],
      "metadata": {
        "id": "UshHLBvracXi"
      }
    },
    {
      "cell_type": "code",
      "metadata": {
        "id": "I7z72qgam3Ss"
      },
      "source": [
        "# Creating a Multi-Layer Perceptron (MLP) Classifier\n",
        "\n",
        "# Importing the MLPClassifier class from scikit-learn's neural network module.\n",
        "from sklearn.neural_network import MLPClassifier\n",
        "\n",
        "# Creating an instance of the MLPClassifier class with specific settings.\n",
        "mlp = MLPClassifier(hidden_layer_sizes=(64, ), activation='relu', max_iter=1000, epsilon=1e-08)"
      ],
      "execution_count": null,
      "outputs": []
    },
    {
      "cell_type": "markdown",
      "source": [
        "Now that the MLP classifier has been trained using the training data (X_train and Y_train), our attention is on evaluating its performance by making predictions using the validation data (X_val). We will specifically use the accuracy_score measure to determine and report the model's prediction accuracy on the validation set. This accuracy score helps us assess the MLP classifier's generalization and prediction accuracy by showing how well it performs on previously unexplored data."
      ],
      "metadata": {
        "id": "jCeNpCRabA29"
      }
    },
    {
      "cell_type": "code",
      "metadata": {
        "colab": {
          "base_uri": "https://localhost:8080/"
        },
        "id": "0hrtPti4m3St",
        "outputId": "5b48ca22-b684-4cd2-fa81-155399eb905e"
      },
      "source": [
        "# Importing the necessary scikit-learn module for accuracy calculation.\n",
        "from sklearn.metrics import accuracy_score\n",
        "\n",
        "# Training the MLP Classifier\n",
        "mlp.fit(X_train, Y_train)\n",
        "\n",
        "# Making predictions on the validation data.\n",
        "prediksi_val = mlp.predict(X_val)\n",
        "\n",
        "# Calculating the accuracy of the model's predictions on the validation set.\n",
        "acc_val = accuracy_score(Y_val, prediksi_val)\n",
        "\n",
        "# Printing the accuracy score of the model on the validation data.\n",
        "print('Validation Accuracy of the ANN Classifier:', acc_val)"
      ],
      "execution_count": null,
      "outputs": [
        {
          "output_type": "stream",
          "name": "stdout",
          "text": [
            "Akurasi Validasi Training ANN: 1.0\n"
          ]
        }
      ]
    },
    {
      "cell_type": "markdown",
      "source": [
        "The next step involves using the MLP classifier to make predictions and then measuring its accuracy."
      ],
      "metadata": {
        "id": "QmhFBlfLbp0e"
      }
    },
    {
      "cell_type": "code",
      "metadata": {
        "colab": {
          "base_uri": "https://localhost:8080/"
        },
        "id": "mYZpUa0um3Su",
        "outputId": "9a039bf1-1dfc-440a-bf51-983ffd88b3e1"
      },
      "source": [
        "# Making predictions on the testing dataset using the trained MLP classifier.\n",
        "prediksi_test = mlp.predict(X_test)\n",
        "\n",
        "# Calculating the accuracy score by comparing the true labels (Y_test) with the predicted labels (prediksi_test).\n",
        "acc_test = accuracy_score(Y_test, prediksi_test)\n",
        "\n",
        "# Printing the accuracy score for the testing dataset.\n",
        "print('Akurasi Testing ANN:', acc_test)\n"
      ],
      "execution_count": null,
      "outputs": [
        {
          "output_type": "stream",
          "name": "stdout",
          "text": [
            "Akurasi Testing ANN: 0.9333333333333333\n"
          ]
        }
      ]
    },
    {
      "cell_type": "markdown",
      "source": [
        "An accuracy score of 93.33% suggests that the MLP classifier was able to accurately classify the Iris dataset's samples into their respective classes with a high level of precision during testing. This demonstrates the effectiveness of the trained neural network model in making accurate predictions on new, unseen data, and it is a positive outcome in the context of the classification task using the Iris dataset."
      ],
      "metadata": {
        "id": "HLVovTX0b_hU"
      }
    },
    {
      "cell_type": "markdown",
      "source": [
        "Certainly, let's provide a more detailed explanation of the next step, which involves importing necessary libraries and calculating additional metrics:"
      ],
      "metadata": {
        "id": "gpFpsh3gcnlH"
      }
    },
    {
      "cell_type": "code",
      "metadata": {
        "colab": {
          "base_uri": "https://localhost:8080/",
          "height": 359
        },
        "id": "qIORsQY4m3Sv",
        "outputId": "9535c01f-6a92-4a76-d181-c7f23c83dbde"
      },
      "source": [
        "# Importing the accuracy_score and plot_confusion_matrix functions from scikit-learn's metrics module.\n",
        "from sklearn.metrics import accuracy_score, plot_confusion_matrix\n",
        "\n",
        "# Making predictions using the trained MLP classifier on the testing dataset.\n",
        "prediksi = mlp.predict(X_test)\n",
        "\n",
        "# Plotting the confusion matrix to visually assess the classifier's performance.\n",
        "plot_confusion_matrix(mlp, X_test, Y_test)\n",
        "\n",
        "# Calculating the accuracy score based on the true labels (Y_test) and predicted labels (prediksi).\n",
        "accuracy = accuracy_score(Y_test, prediksi)"
      ],
      "execution_count": null,
      "outputs": [
        {
          "output_type": "stream",
          "name": "stderr",
          "text": [
            "/usr/local/lib/python3.7/dist-packages/sklearn/utils/deprecation.py:87: FutureWarning: Function plot_confusion_matrix is deprecated; Function `plot_confusion_matrix` is deprecated in 1.0 and will be removed in 1.2. Use one of the class methods: ConfusionMatrixDisplay.from_predictions or ConfusionMatrixDisplay.from_estimator.\n",
            "  warnings.warn(msg, category=FutureWarning)\n"
          ]
        },
        {
          "output_type": "stream",
          "name": "stdout",
          "text": [
            "Akurasi Testing ANN: 0.9333333333333333\n"
          ]
        },
        {
          "output_type": "display_data",
          "data": {
            "image/png": "[encoded data removed]",
            "text/plain": [
              "<Figure size 432x288 with 2 Axes>"
            ]
          },
          "metadata": {
            "needs_background": "light"
          }
        }
      ]
    },
    {
      "cell_type": "markdown",
      "source": [
        "### Converting Labels to Categorical One-Hot Encoding\n",
        "\n",
        "Categorical one-hot encoding is a fundamental data transformation technique, particularly valuable in machine learning, specifically when dealing with categorical or nominal data, such as class labels. This technique is employed to convert categorical data into a numerical format suitable for machine learning models, including neural networks. Here's an in-depth explanation of its principles and significance:\n",
        "\n",
        "**Example of Categorical One-Hot Encoding:**\n",
        "Consider a dataset with a 'Color' feature containing categories 'Red,' 'Green,' and 'Blue.' Using one-hot encoding:\n",
        "'Red' may be represented as [1, 0, 0]\n",
        "'Green' may be represented as [0, 1, 0]\n",
        "'Blue' may be represented as [0, 0, 1]"
      ],
      "metadata": {
        "id": "KQzAIXjMc3bw"
      }
    },
    {
      "cell_type": "code",
      "metadata": {
        "id": "cjwFQZxNm3S2"
      },
      "source": [
        "# Importing the to_categorical function from TensorFlow's Keras utilities.\n",
        "from tensorflow.keras.utils import to_categorical\n",
        "\n",
        "# Converting training set labels (Y_train) to categorical one-hot encoding.\n",
        "Y_train = to_categorical(Y_train, 3)\n",
        "\n",
        "# Converting validation set labels (Y_val) to categorical one-hot encoding.\n",
        "Y_val = to_categorical(Y_val, 3)\n",
        "\n",
        "# Converting testing set labels (Y_test) to categorical one-hot encoding.\n",
        "Y_test = to_categorical(Y_test, 3)"
      ],
      "execution_count": null,
      "outputs": []
    },
    {
      "cell_type": "markdown",
      "source": [
        "## Creating a Sequential Neural Network Model\n",
        "\n",
        "In this section, we'll provide a comprehensive explanation of the code responsible for creating a Sequential Neural Network model using Keras. This code serves as the foundation for building and training a neural network for classification tasks. The code starts by importing essential modules from Keras. Keras is a high-level neural networks API that simplifies the process of building and training neural networks.\n",
        "\n"
      ],
      "metadata": {
        "id": "qPjeqkQSd9aN"
      }
    },
    {
      "cell_type": "code",
      "metadata": {
        "id": "0EN9aHWfm3S5"
      },
      "source": [
        "# Importing necessary modules from Keras.\n",
        "from keras.models import Sequential\n",
        "from keras.layers import Flatten, Dense\n",
        "\n",
        "# Creating an instance of the Sequential model.\n",
        "model = Sequential()\n",
        "\n",
        "# Adding Layers to the Sequential Model\n",
        "model.add(Flatten())           # Flatten layer: Flattens input data.\n",
        "model.add(Dense(64, activation='relu'))  # Dense layer with 64 neurons and ReLU activation.\n",
        "model.add(Dense(3, activation='softmax'))  # Dense layer with 3 neurons (output classes) and softmax activation.\n",
        "\n",
        "# Compiling the Model\n",
        "model.compile(optimizer='adam', loss='categorical_crossentropy', metrics=['acc'])"
      ],
      "execution_count": null,
      "outputs": []
    },
    {
      "cell_type": "markdown",
      "source": [
        " This code establishes a Sequential Neural Network model with specified layers and configurations, making it ready for training and evaluation. The network architecture is crucial in determining how the model learns and predicts, and the compilation settings guide the training process. This structured approach simplifies the development of neural networks for various machine learning tasks.\n",
        "\n",
        " Certainly, let's explain the next step in building and training a neural network model using Keras:"
      ],
      "metadata": {
        "id": "2KL1rpdNekYn"
      }
    },
    {
      "cell_type": "code",
      "metadata": {
        "id": "d5O7dM-sm3S9",
        "outputId": "5a50ea42-76f4-41bd-cbb7-e8726673b881"
      },
      "source": [
        "# Fitting the model to the training data\n",
        "model.fit(X_train,Y_train,epochs=100,batch_size=10,validation_data=(X_val,Y_val))"
      ],
      "execution_count": null,
      "outputs": [
        {
          "name": "stdout",
          "output_type": "stream",
          "text": [
            "Epoch 1/100\n",
            "12/12 [==============================] - 1s 35ms/step - loss: 1.7284 - acc: 0.3000 - val_loss: 0.8984 - val_acc: 0.5714\n",
            "Epoch 2/100\n",
            "12/12 [==============================] - 0s 2ms/step - loss: 0.8493 - acc: 0.6154 - val_loss: 0.8074 - val_acc: 0.5238\n",
            "Epoch 3/100\n",
            "12/12 [==============================] - 0s 2ms/step - loss: 0.7546 - acc: 0.6968 - val_loss: 0.8764 - val_acc: 0.5238\n",
            "Epoch 4/100\n",
            "12/12 [==============================] - 0s 2ms/step - loss: 0.7290 - acc: 0.6992 - val_loss: 0.8060 - val_acc: 0.5238\n",
            "Epoch 5/100\n",
            "12/12 [==============================] - 0s 2ms/step - loss: 0.6956 - acc: 0.6724 - val_loss: 0.7255 - val_acc: 0.5238\n",
            "Epoch 6/100\n",
            "12/12 [==============================] - 0s 2ms/step - loss: 0.6398 - acc: 0.7069 - val_loss: 0.6839 - val_acc: 0.7143\n",
            "Epoch 7/100\n",
            "12/12 [==============================] - 0s 2ms/step - loss: 0.6186 - acc: 0.7019 - val_loss: 0.6765 - val_acc: 0.5238\n",
            "Epoch 8/100\n",
            "12/12 [==============================] - 0s 2ms/step - loss: 0.5632 - acc: 0.7184 - val_loss: 0.6585 - val_acc: 0.5238\n",
            "Epoch 9/100\n",
            "12/12 [==============================] - 0s 2ms/step - loss: 0.5391 - acc: 0.7358 - val_loss: 0.6369 - val_acc: 0.5238\n",
            "Epoch 10/100\n",
            "12/12 [==============================] - 0s 2ms/step - loss: 0.5491 - acc: 0.7165 - val_loss: 0.6079 - val_acc: 0.7143\n",
            "Epoch 11/100\n",
            "12/12 [==============================] - 0s 2ms/step - loss: 0.5448 - acc: 0.7567 - val_loss: 0.6073 - val_acc: 0.5238\n",
            "Epoch 12/100\n",
            "12/12 [==============================] - 0s 2ms/step - loss: 0.5228 - acc: 0.7230 - val_loss: 0.5703 - val_acc: 0.8095\n",
            "Epoch 13/100\n",
            "12/12 [==============================] - 0s 2ms/step - loss: 0.4752 - acc: 0.8976 - val_loss: 0.5656 - val_acc: 0.7619\n",
            "Epoch 14/100\n",
            "12/12 [==============================] - 0s 2ms/step - loss: 0.5037 - acc: 0.8209 - val_loss: 0.5610 - val_acc: 0.7143\n",
            "Epoch 15/100\n",
            "12/12 [==============================] - 0s 2ms/step - loss: 0.4952 - acc: 0.7498 - val_loss: 0.5495 - val_acc: 0.7143\n",
            "Epoch 16/100\n",
            "12/12 [==============================] - 0s 2ms/step - loss: 0.4207 - acc: 0.7910 - val_loss: 0.5325 - val_acc: 0.8095\n",
            "Epoch 17/100\n",
            "12/12 [==============================] - 0s 2ms/step - loss: 0.4158 - acc: 0.8882 - val_loss: 0.5286 - val_acc: 0.7619\n",
            "Epoch 18/100\n",
            "12/12 [==============================] - 0s 2ms/step - loss: 0.4121 - acc: 0.8873 - val_loss: 0.4988 - val_acc: 0.9048\n",
            "Epoch 19/100\n",
            "12/12 [==============================] - 0s 2ms/step - loss: 0.4453 - acc: 0.9293 - val_loss: 0.4968 - val_acc: 0.8095\n",
            "Epoch 20/100\n",
            "12/12 [==============================] - 0s 2ms/step - loss: 0.4128 - acc: 0.8799 - val_loss: 0.4996 - val_acc: 0.8095\n",
            "Epoch 21/100\n",
            "12/12 [==============================] - 0s 2ms/step - loss: 0.4314 - acc: 0.8691 - val_loss: 0.4771 - val_acc: 0.8095\n",
            "Epoch 22/100\n",
            "12/12 [==============================] - 0s 2ms/step - loss: 0.4091 - acc: 0.9106 - val_loss: 0.4810 - val_acc: 0.8095\n",
            "Epoch 23/100\n",
            "12/12 [==============================] - 0s 2ms/step - loss: 0.3774 - acc: 0.8960 - val_loss: 0.4657 - val_acc: 0.8095\n",
            "Epoch 24/100\n",
            "12/12 [==============================] - 0s 2ms/step - loss: 0.3897 - acc: 0.9502 - val_loss: 0.4438 - val_acc: 0.9048\n",
            "Epoch 25/100\n",
            "12/12 [==============================] - 0s 2ms/step - loss: 0.4117 - acc: 0.9554 - val_loss: 0.4472 - val_acc: 0.8095\n",
            "Epoch 26/100\n",
            "12/12 [==============================] - 0s 2ms/step - loss: 0.3776 - acc: 0.9479 - val_loss: 0.4300 - val_acc: 0.9048\n",
            "Epoch 27/100\n",
            "12/12 [==============================] - 0s 2ms/step - loss: 0.3834 - acc: 0.9502 - val_loss: 0.4566 - val_acc: 0.8095\n",
            "Epoch 28/100\n",
            "12/12 [==============================] - 0s 2ms/step - loss: 0.3351 - acc: 0.8676 - val_loss: 0.4246 - val_acc: 0.8095\n",
            "Epoch 29/100\n",
            "12/12 [==============================] - 0s 2ms/step - loss: 0.3567 - acc: 0.9660 - val_loss: 0.4081 - val_acc: 0.9048\n",
            "Epoch 30/100\n",
            "12/12 [==============================] - 0s 2ms/step - loss: 0.3341 - acc: 0.9379 - val_loss: 0.4141 - val_acc: 0.8095\n",
            "Epoch 31/100\n",
            "12/12 [==============================] - 0s 2ms/step - loss: 0.3380 - acc: 0.9698 - val_loss: 0.3857 - val_acc: 0.9048\n",
            "Epoch 32/100\n",
            "12/12 [==============================] - 0s 2ms/step - loss: 0.3111 - acc: 0.9875 - val_loss: 0.3903 - val_acc: 0.8571\n",
            "Epoch 33/100\n",
            "12/12 [==============================] - 0s 2ms/step - loss: 0.2956 - acc: 0.9896 - val_loss: 0.3795 - val_acc: 0.9048\n",
            "Epoch 34/100\n",
            "12/12 [==============================] - 0s 2ms/step - loss: 0.3440 - acc: 0.9610 - val_loss: 0.3700 - val_acc: 0.9048\n",
            "Epoch 35/100\n",
            "12/12 [==============================] - 0s 2ms/step - loss: 0.3025 - acc: 0.9873 - val_loss: 0.3639 - val_acc: 0.9048\n",
            "Epoch 36/100\n",
            "12/12 [==============================] - 0s 2ms/step - loss: 0.3118 - acc: 0.9880 - val_loss: 0.3685 - val_acc: 0.8571\n",
            "Epoch 37/100\n",
            "12/12 [==============================] - 0s 2ms/step - loss: 0.2707 - acc: 0.9795 - val_loss: 0.3552 - val_acc: 0.9048\n",
            "Epoch 38/100\n",
            "12/12 [==============================] - 0s 2ms/step - loss: 0.2802 - acc: 0.9831 - val_loss: 0.3419 - val_acc: 0.9048\n",
            "Epoch 39/100\n",
            "12/12 [==============================] - 0s 2ms/step - loss: 0.2957 - acc: 0.9764 - val_loss: 0.3659 - val_acc: 0.8095\n",
            "Epoch 40/100\n",
            "12/12 [==============================] - 0s 2ms/step - loss: 0.2662 - acc: 0.9821 - val_loss: 0.3324 - val_acc: 0.9048\n",
            "Epoch 41/100\n",
            "12/12 [==============================] - 0s 2ms/step - loss: 0.2832 - acc: 0.9676 - val_loss: 0.3174 - val_acc: 0.9524\n",
            "Epoch 42/100\n",
            "12/12 [==============================] - 0s 2ms/step - loss: 0.2638 - acc: 0.9695 - val_loss: 0.3315 - val_acc: 0.8571\n",
            "Epoch 43/100\n",
            "12/12 [==============================] - 0s 2ms/step - loss: 0.2807 - acc: 0.9664 - val_loss: 0.3250 - val_acc: 0.9048\n",
            "Epoch 44/100\n",
            "12/12 [==============================] - 0s 2ms/step - loss: 0.2903 - acc: 0.9631 - val_loss: 0.3212 - val_acc: 0.8571\n",
            "Epoch 45/100\n",
            "12/12 [==============================] - 0s 2ms/step - loss: 0.2617 - acc: 0.9757 - val_loss: 0.3114 - val_acc: 0.9048\n",
            "Epoch 46/100\n",
            "12/12 [==============================] - 0s 2ms/step - loss: 0.2374 - acc: 0.9902 - val_loss: 0.3020 - val_acc: 0.9048\n",
            "Epoch 47/100\n",
            "12/12 [==============================] - 0s 2ms/step - loss: 0.2503 - acc: 0.9494 - val_loss: 0.2903 - val_acc: 0.8571\n",
            "Epoch 48/100\n",
            "12/12 [==============================] - 0s 2ms/step - loss: 0.2283 - acc: 0.9781 - val_loss: 0.3034 - val_acc: 0.9048\n",
            "Epoch 49/100\n",
            "12/12 [==============================] - 0s 2ms/step - loss: 0.2300 - acc: 0.9811 - val_loss: 0.2868 - val_acc: 0.9048\n",
            "Epoch 50/100\n",
            "12/12 [==============================] - 0s 2ms/step - loss: 0.2251 - acc: 0.9914 - val_loss: 0.2832 - val_acc: 0.9048\n",
            "Epoch 51/100\n",
            "12/12 [==============================] - 0s 2ms/step - loss: 0.2191 - acc: 0.9690 - val_loss: 0.2751 - val_acc: 0.9048\n",
            "Epoch 52/100\n",
            "12/12 [==============================] - 0s 2ms/step - loss: 0.2112 - acc: 0.9706 - val_loss: 0.2994 - val_acc: 0.8571\n",
            "Epoch 53/100\n",
            "12/12 [==============================] - 0s 2ms/step - loss: 0.2133 - acc: 0.9734 - val_loss: 0.2658 - val_acc: 0.9048\n",
            "Epoch 54/100\n",
            "12/12 [==============================] - 0s 2ms/step - loss: 0.2213 - acc: 0.9766 - val_loss: 0.2573 - val_acc: 0.8571\n",
            "Epoch 55/100\n",
            "12/12 [==============================] - 0s 2ms/step - loss: 0.2187 - acc: 0.9884 - val_loss: 0.2625 - val_acc: 0.9048\n",
            "Epoch 56/100\n",
            "12/12 [==============================] - 0s 2ms/step - loss: 0.2116 - acc: 0.9708 - val_loss: 0.2654 - val_acc: 0.9048\n",
            "Epoch 57/100\n",
            "12/12 [==============================] - 0s 2ms/step - loss: 0.1815 - acc: 0.9906 - val_loss: 0.2475 - val_acc: 0.8571\n",
            "Epoch 58/100\n",
            "12/12 [==============================] - 0s 2ms/step - loss: 0.1816 - acc: 0.9857 - val_loss: 0.2500 - val_acc: 0.9048\n",
            "Epoch 59/100\n",
            "12/12 [==============================] - 0s 2ms/step - loss: 0.2135 - acc: 0.9640 - val_loss: 0.2448 - val_acc: 0.9048\n",
            "Epoch 60/100\n",
            "12/12 [==============================] - 0s 2ms/step - loss: 0.1834 - acc: 0.9821 - val_loss: 0.2613 - val_acc: 0.9048\n",
            "Epoch 61/100\n",
            "12/12 [==============================] - 0s 2ms/step - loss: 0.1639 - acc: 0.9935 - val_loss: 0.2261 - val_acc: 0.9524\n",
            "Epoch 62/100\n",
            "12/12 [==============================] - 0s 2ms/step - loss: 0.2063 - acc: 0.9784 - val_loss: 0.2397 - val_acc: 0.9048\n",
            "Epoch 63/100\n",
            "12/12 [==============================] - 0s 2ms/step - loss: 0.1634 - acc: 0.9849 - val_loss: 0.2319 - val_acc: 0.9048\n",
            "Epoch 64/100\n",
            "12/12 [==============================] - 0s 2ms/step - loss: 0.1931 - acc: 0.9761 - val_loss: 0.2370 - val_acc: 0.9048\n",
            "Epoch 65/100\n",
            "12/12 [==============================] - 0s 2ms/step - loss: 0.1610 - acc: 0.9893 - val_loss: 0.2270 - val_acc: 0.9048\n",
            "Epoch 66/100\n",
            "12/12 [==============================] - 0s 2ms/step - loss: 0.1601 - acc: 0.9909 - val_loss: 0.2194 - val_acc: 0.8571\n",
            "Epoch 67/100\n",
            "12/12 [==============================] - 0s 2ms/step - loss: 0.1760 - acc: 0.9615 - val_loss: 0.2222 - val_acc: 0.9048\n",
            "Epoch 68/100\n",
            "12/12 [==============================] - 0s 2ms/step - loss: 0.1996 - acc: 0.9585 - val_loss: 0.2204 - val_acc: 0.9048\n",
            "Epoch 69/100\n",
            "12/12 [==============================] - 0s 2ms/step - loss: 0.1910 - acc: 0.9708 - val_loss: 0.2241 - val_acc: 0.9048\n",
            "Epoch 70/100\n",
            "12/12 [==============================] - 0s 2ms/step - loss: 0.1499 - acc: 0.9893 - val_loss: 0.2038 - val_acc: 0.8571\n",
            "Epoch 71/100\n",
            "12/12 [==============================] - 0s 2ms/step - loss: 0.1388 - acc: 0.9896 - val_loss: 0.2196 - val_acc: 0.9048\n",
            "Epoch 72/100\n",
            "12/12 [==============================] - 0s 2ms/step - loss: 0.1701 - acc: 0.9669 - val_loss: 0.2081 - val_acc: 0.9048\n",
            "Epoch 73/100\n",
            "12/12 [==============================] - 0s 2ms/step - loss: 0.1465 - acc: 0.9951 - val_loss: 0.2177 - val_acc: 0.9048\n",
            "Epoch 74/100\n",
            "12/12 [==============================] - 0s 2ms/step - loss: 0.1559 - acc: 0.9901 - val_loss: 0.1999 - val_acc: 0.8571\n",
            "Epoch 75/100\n",
            "12/12 [==============================] - 0s 2ms/step - loss: 0.1402 - acc: 0.9768 - val_loss: 0.2015 - val_acc: 0.9048\n",
            "Epoch 76/100\n",
            "12/12 [==============================] - 0s 2ms/step - loss: 0.1646 - acc: 0.9701 - val_loss: 0.1971 - val_acc: 0.8571\n",
            "Epoch 77/100\n",
            "12/12 [==============================] - 0s 2ms/step - loss: 0.1468 - acc: 0.9935 - val_loss: 0.2121 - val_acc: 0.9048\n",
            "Epoch 78/100\n",
            "12/12 [==============================] - 0s 2ms/step - loss: 0.1559 - acc: 0.9799 - val_loss: 0.1925 - val_acc: 0.8571\n",
            "Epoch 79/100\n",
            "12/12 [==============================] - 0s 2ms/step - loss: 0.1385 - acc: 0.9925 - val_loss: 0.2009 - val_acc: 0.9048\n",
            "Epoch 80/100\n",
            "12/12 [==============================] - 0s 2ms/step - loss: 0.1356 - acc: 0.9901 - val_loss: 0.1868 - val_acc: 0.8571\n",
            "Epoch 81/100\n",
            "12/12 [==============================] - 0s 2ms/step - loss: 0.1230 - acc: 0.9940 - val_loss: 0.1910 - val_acc: 0.9048\n",
            "Epoch 82/100\n",
            "12/12 [==============================] - 0s 2ms/step - loss: 0.1365 - acc: 0.9803 - val_loss: 0.1791 - val_acc: 0.9048\n",
            "Epoch 83/100\n",
            "12/12 [==============================] - 0s 2ms/step - loss: 0.1534 - acc: 0.9684 - val_loss: 0.2028 - val_acc: 0.9048\n",
            "Epoch 84/100\n",
            "12/12 [==============================] - 0s 2ms/step - loss: 0.1241 - acc: 0.9812 - val_loss: 0.1890 - val_acc: 0.9048\n",
            "Epoch 85/100\n",
            "12/12 [==============================] - 0s 2ms/step - loss: 0.1400 - acc: 0.9624 - val_loss: 0.1863 - val_acc: 0.9048\n",
            "Epoch 86/100\n",
            "12/12 [==============================] - 0s 2ms/step - loss: 0.1219 - acc: 0.9885 - val_loss: 0.1887 - val_acc: 0.9048\n",
            "Epoch 87/100\n",
            "12/12 [==============================] - 0s 2ms/step - loss: 0.1285 - acc: 0.9697 - val_loss: 0.1869 - val_acc: 0.9048\n",
            "Epoch 88/100\n",
            "12/12 [==============================] - 0s 2ms/step - loss: 0.1253 - acc: 0.9761 - val_loss: 0.1826 - val_acc: 0.9048\n",
            "Epoch 89/100\n",
            "12/12 [==============================] - 0s 2ms/step - loss: 0.1381 - acc: 0.9585 - val_loss: 0.1962 - val_acc: 0.9048\n",
            "Epoch 90/100\n",
            "12/12 [==============================] - 0s 2ms/step - loss: 0.1174 - acc: 0.9825 - val_loss: 0.1792 - val_acc: 0.8571\n",
            "Epoch 91/100\n",
            "12/12 [==============================] - 0s 2ms/step - loss: 0.1050 - acc: 0.9849 - val_loss: 0.1885 - val_acc: 0.9048\n",
            "Epoch 92/100\n",
            "12/12 [==============================] - 0s 2ms/step - loss: 0.1270 - acc: 0.9684 - val_loss: 0.1791 - val_acc: 0.9048\n",
            "Epoch 93/100\n",
            "12/12 [==============================] - 0s 2ms/step - loss: 0.1145 - acc: 0.9923 - val_loss: 0.1927 - val_acc: 0.9048\n",
            "Epoch 94/100\n",
            "12/12 [==============================] - 0s 2ms/step - loss: 0.1018 - acc: 0.9875 - val_loss: 0.1630 - val_acc: 0.9524\n",
            "Epoch 95/100\n",
            "12/12 [==============================] - 0s 2ms/step - loss: 0.0943 - acc: 0.9972 - val_loss: 0.1808 - val_acc: 0.9048\n",
            "Epoch 96/100\n",
            "12/12 [==============================] - 0s 2ms/step - loss: 0.1174 - acc: 0.9878 - val_loss: 0.1800 - val_acc: 0.9048\n",
            "Epoch 97/100\n",
            "12/12 [==============================] - 0s 2ms/step - loss: 0.0939 - acc: 0.9909 - val_loss: 0.1675 - val_acc: 0.8571\n",
            "Epoch 98/100\n",
            "12/12 [==============================] - 0s 2ms/step - loss: 0.1169 - acc: 0.9963 - val_loss: 0.1673 - val_acc: 0.8571\n",
            "Epoch 99/100\n",
            "12/12 [==============================] - 0s 2ms/step - loss: 0.1122 - acc: 0.9878 - val_loss: 0.1773 - val_acc: 0.9048\n",
            "Epoch 100/100\n",
            "12/12 [==============================] - 0s 2ms/step - loss: 0.1083 - acc: 0.9943 - val_loss: 0.1697 - val_acc: 0.8571\n"
          ]
        },
        {
          "data": {
            "text/plain": [
              "<tensorflow.python.keras.callbacks.History at 0x7f9c201ee090>"
            ]
          },
          "execution_count": 10,
          "metadata": {},
          "output_type": "execute_result"
        }
      ]
    },
    {
      "cell_type": "markdown",
      "source": [
        "Certainly, let's explain the next step, which involves displaying the model summary using model.summary():"
      ],
      "metadata": {
        "id": "kr3pq220e51D"
      }
    },
    {
      "cell_type": "code",
      "metadata": {
        "id": "yKsdnrKZm3S-",
        "outputId": "65e0d62c-24ed-4ea3-94e2-f7d567bfc591"
      },
      "source": [
        "# Displaying the Model Summary\n",
        "model.summary()"
      ],
      "execution_count": null,
      "outputs": [
        {
          "name": "stdout",
          "output_type": "stream",
          "text": [
            "Model: \"sequential\"\n",
            "_________________________________________________________________\n",
            "Layer (type)                 Output Shape              Param #   \n",
            "=================================================================\n",
            "flatten (Flatten)            (None, 4)                 0         \n",
            "_________________________________________________________________\n",
            "dense (Dense)                (None, 64)                320       \n",
            "_________________________________________________________________\n",
            "dense_1 (Dense)              (None, 3)                 195       \n",
            "=================================================================\n",
            "Total params: 515\n",
            "Trainable params: 515\n",
            "Non-trainable params: 0\n",
            "_________________________________________________________________\n"
          ]
        }
      ]
    },
    {
      "cell_type": "markdown",
      "source": [
        "The output summary concludes with a tally of parameters:\n",
        "\n",
        "\n",
        "1.   **Total trainable parameters:** The sum of trainable parameters across all layers amounts to 515. This figure indicates the total number of parameters that the model will adjust and fine-tune during the training process.\n",
        "2.   **Trainable parameters:** In this instance, all parameters are trainable, which means that they will be updated during training. Some models may have non-trainable parameters, particularly in scenarios where certain layers are intentionally frozen.\n",
        "3.   **Non-trainable parameters:** The count of non-trainable parameters is denoted as 0 in this summary. Non-trainable parameters are typically encountered when layers are frozen, such as in pre-trained models where specific layers remain fixed.\n",
        "\n",
        "This model summary provides a comprehensive overview of the neural network's architecture, highlighting the types of layers employed, their output shapes, and the quantity of parameters associated with each layer. This information is invaluable for comprehending the model's structure, complexity, and its capacity to learn from data during the training process."
      ],
      "metadata": {
        "id": "MZoOzxm2fRCd"
      }
    },
    {
      "cell_type": "markdown",
      "source": [
        "## valuating the Model (Detailed Explanation):\n",
        "Certainly, let's explain the next steps in evaluating the neural network model:"
      ],
      "metadata": {
        "id": "zmB_cbbrgA4Z"
      }
    },
    {
      "cell_type": "code",
      "metadata": {
        "id": "2CiJSH-3m3S_",
        "outputId": "2b41c27e-94e3-4f1f-8099-44f0049bcb09"
      },
      "source": [
        "# Importing Necessary Libraries for Evaluation\n",
        "from sklearn.metrics import confusion_matrix\n",
        "\n",
        "# Evaluating the Model\n",
        "loss, accuracy = model.evaluate(X_test, Y_test)\n",
        "print('Akurasi Testing ANN:', accuracy)"
      ],
      "execution_count": null,
      "outputs": [
        {
          "name": "stdout",
          "output_type": "stream",
          "text": [
            "1/1 [==============================] - 0s 10ms/step - loss: 0.0651 - acc: 1.0000\n",
            "Akurasi Testing ANN: 1.0\n"
          ]
        }
      ]
    },
    {
      "cell_type": "markdown",
      "source": [
        "The provided output represents the evaluation results of a neural network model on a test dataset. It begins by importing the necessary library function for later use. The actual evaluation occurs in the following line, where the model is tested on the test dataset. This evaluation process computes two key metrics: the loss and accuracy of the model.\n",
        "\n",
        "The 'loss' value, calculated to be 0.0651, measures how closely the model's predictions align with the accurate labels in the test dataset. A lower loss typically indicates better alignment, although the specific interpretation depends on the chosen loss function during model training.\n",
        "\n",
        "The 'accuracy' score is an essential metric for classification tasks, and in this case, it reaches a perfect score of 1.0. An accuracy of 1.0 signifies that the model correctly classified every sample in the test dataset, reflecting its remarkable performance in making predictions.\n",
        "\n",
        "Before displaying the accuracy score, the output includes additional information from Keras, such as the number of batches processed and the time taken per step during evaluation. However, the central focus remains on the accuracy score, which confirms that the model excels in classifying test data, indicating its ability to generalize effectively to previously unseen examples."
      ],
      "metadata": {
        "id": "4mxSIUjcgkW-"
      }
    }
  ]
}